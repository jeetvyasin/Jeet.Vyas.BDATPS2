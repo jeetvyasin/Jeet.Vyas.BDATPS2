{
 "cells": [
  {
   "cell_type": "markdown",
   "id": "5f2b4f1b",
   "metadata": {},
   "source": [
    "## Question 1"
   ]
  },
  {
   "cell_type": "markdown",
   "id": "8c49429d",
   "metadata": {},
   "source": [
    "a = 0\n",
    "def b():\n",
    " global a\n",
    " a = c(a)\n",
    "def c(a):\n",
    " return a + 2"
   ]
  },
  {
   "cell_type": "code",
   "execution_count": 2,
   "id": "b5b5d81e",
   "metadata": {},
   "outputs": [
    {
     "data": {
      "text/plain": [
       "6"
      ]
     },
     "execution_count": 2,
     "metadata": {},
     "output_type": "execute_result"
    }
   ],
   "source": [
    "b()\n",
    "b()\n",
    "b()\n",
    "a"
   ]
  },
  {
   "cell_type": "markdown",
   "id": "ab8f4898",
   "metadata": {},
   "source": [
    "As we can see value is 6 here because in the scope of function 'b' we have defined global a, which results in that function referencing our member variable which we defined in line 1. Then we pass that variable to another function C but parameter is referenced, so when we change the value of a in c, original value of a also gets changed."
   ]
  },
  {
   "cell_type": "markdown",
   "id": "9acfe80d",
   "metadata": {},
   "source": [
    "## Question 2"
   ]
  },
  {
   "cell_type": "code",
   "execution_count": 7,
   "id": "d072b086",
   "metadata": {},
   "outputs": [],
   "source": [
    "def file_length(file_name):\n",
    "    try:\n",
    "        file = open(file_name)\n",
    "        contents = file.read()\n",
    "        file.close()\n",
    "        print(len(contents))\n",
    "    except FileNotFoundError:\n",
    "        print(\"File \" + file_name  +  \" not found\")"
   ]
  },
  {
   "cell_type": "code",
   "execution_count": 8,
   "id": "15b55e0e",
   "metadata": {},
   "outputs": [
    {
     "name": "stdout",
     "output_type": "stream",
     "text": [
      "19\n"
     ]
    }
   ],
   "source": [
    "file_length('intro.txt')"
   ]
  },
  {
   "cell_type": "code",
   "execution_count": 9,
   "id": "9b890d6a",
   "metadata": {},
   "outputs": [
    {
     "name": "stdout",
     "output_type": "stream",
     "text": [
      "File random.txt not found\n"
     ]
    }
   ],
   "source": [
    "file_length('random.txt')"
   ]
  },
  {
   "cell_type": "markdown",
   "id": "d8ac087b",
   "metadata": {},
   "source": [
    "## Question 3"
   ]
  },
  {
   "cell_type": "code",
   "execution_count": 19,
   "id": "78a34565",
   "metadata": {},
   "outputs": [],
   "source": [
    "class Marsupial:\n",
    "    \n",
    "    def __init__(self):\n",
    "        self.houseList = []\n",
    "          \n",
    "    def put_in_pouch(self, text):\n",
    "        self.houseList.append(text)\n",
    "        \n",
    "    def pouch_contents(self):\n",
    "        return self.houseList\n",
    "    \n",
    "class Kangaroo(Marsupial):\n",
    "    \n",
    "    def __init__(self,x, y):\n",
    "        self.x = x\n",
    "        self.y = y\n",
    "        super().__init__()\n",
    "          \n",
    "    def jump(self, dx, dy):\n",
    "        self.x += dx\n",
    "        self.y += dy\n",
    "        \n",
    "    def locateMe(self):\n",
    "        print(\"I am a Kangaroo located at coordinates (\" + str(self.x) + \",\" + str(self.y) +\").\")"
   ]
  },
  {
   "cell_type": "code",
   "execution_count": 23,
   "id": "8a29b4cb",
   "metadata": {},
   "outputs": [
    {
     "name": "stdout",
     "output_type": "stream",
     "text": [
      "I am a Kangaroo located at coordinates (0,0).\n",
      "['doll', 'firetruck', 'kitten']\n",
      "I am a Kangaroo located at coordinates (3,0).\n"
     ]
    }
   ],
   "source": [
    "m = Marsupial()\n",
    "m.put_in_pouch('doll')\n",
    "m.put_in_pouch('firetruck')\n",
    "m.put_in_pouch('kitten')\n",
    "m.pouch_contents()\n",
    "\n",
    "k = Kangaroo(0,0)\n",
    "k.locateMe()\n",
    "k.put_in_pouch('doll')\n",
    "k.put_in_pouch('firetruck')\n",
    "k.put_in_pouch('kitten')\n",
    "print(k.pouch_contents())\n",
    "k.jump(1,0)\n",
    "k.jump(1,0)\n",
    "k.jump(1,0)\n",
    "k.locateMe()"
   ]
  },
  {
   "cell_type": "markdown",
   "id": "0e2d1ba4",
   "metadata": {},
   "source": [
    "## Question 4"
   ]
  },
  {
   "cell_type": "code",
   "execution_count": 1,
   "id": "702c2c8e",
   "metadata": {},
   "outputs": [],
   "source": [
    "def collatz(x):\n",
    "    print(x)\n",
    "    if x == 1:\n",
    "        return;\n",
    "    \n",
    "    if x%2 == 0:\n",
    "        x = x/2\n",
    "    else:\n",
    "        x = 3 * x + 1\n",
    "    \n",
    "    collatz(x)"
   ]
  },
  {
   "cell_type": "code",
   "execution_count": 4,
   "id": "313f5299",
   "metadata": {},
   "outputs": [
    {
     "name": "stdout",
     "output_type": "stream",
     "text": [
      "25\n",
      "76\n",
      "38.0\n",
      "19.0\n",
      "58.0\n",
      "29.0\n",
      "88.0\n",
      "44.0\n",
      "22.0\n",
      "11.0\n",
      "34.0\n",
      "17.0\n",
      "52.0\n",
      "26.0\n",
      "13.0\n",
      "40.0\n",
      "20.0\n",
      "10.0\n",
      "5.0\n",
      "16.0\n",
      "8.0\n",
      "4.0\n",
      "2.0\n",
      "1.0\n"
     ]
    }
   ],
   "source": [
    "collatz(25)"
   ]
  },
  {
   "cell_type": "markdown",
   "id": "5bebd159",
   "metadata": {},
   "source": [
    "## Question 5"
   ]
  },
  {
   "cell_type": "code",
   "execution_count": 10,
   "id": "0abf25f7",
   "metadata": {},
   "outputs": [],
   "source": [
    "def binary(n):\n",
    "    if n >= 1:\n",
    "    # recursive function call\n",
    "        binary(n // 2)\n",
    "    \n",
    "    # printing remainder from each function call\n",
    "    print(n % 2, end = '')"
   ]
  },
  {
   "cell_type": "code",
   "execution_count": 12,
   "id": "1bb3676b",
   "metadata": {},
   "outputs": [
    {
     "name": "stdout",
     "output_type": "stream",
     "text": [
      "01001"
     ]
    }
   ],
   "source": [
    "binary(9)"
   ]
  },
  {
   "cell_type": "markdown",
   "id": "50ea7dc1",
   "metadata": {},
   "source": [
    "## Question 6"
   ]
  },
  {
   "cell_type": "code",
   "execution_count": 25,
   "id": "35695fb6",
   "metadata": {},
   "outputs": [],
   "source": [
    "from html.parser import HTMLParser\n",
    "\n",
    "class HeadingParser(HTMLParser):\n",
    "    headerStartTag = \"\"\n",
    "    def handle_starttag(self, tag, attrs):\n",
    "        self.headerStartTag = tag\n",
    "\n",
    "\n",
    "\n",
    "    def handle_data(self, data):\n",
    "        if self.headerStartTag == \"h1\":\n",
    "            print(data)\n",
    "        if self.headerStartTag == \"h2\":\n",
    "            print(\"\\t\" + data)\n",
    "    "
   ]
  },
  {
   "cell_type": "code",
   "execution_count": 21,
   "id": "3754333b",
   "metadata": {},
   "outputs": [],
   "source": [
    "infile = open('w3c.txt')\n",
    "content = infile.read()\n",
    "infile.close()"
   ]
  },
  {
   "cell_type": "code",
   "execution_count": 26,
   "id": "c074fb1c",
   "metadata": {},
   "outputs": [
    {
     "name": "stdout",
     "output_type": "stream",
     "text": [
      "W3C Mission\n",
      "\n",
      "\t\n",
      "\tPrinciples\n",
      "\t\n",
      " \n",
      "\n",
      "\n",
      "\n",
      "\t\n",
      "\n"
     ]
    }
   ],
   "source": [
    "parser = HeadingParser()\n",
    "parser.feed(content)"
   ]
  },
  {
   "cell_type": "markdown",
   "id": "30390f96",
   "metadata": {},
   "source": [
    "## Question 7"
   ]
  },
  {
   "cell_type": "code",
   "execution_count": null,
   "id": "a2d0cf38",
   "metadata": {},
   "outputs": [],
   "source": []
  },
  {
   "cell_type": "markdown",
   "id": "65f30e08",
   "metadata": {},
   "source": [
    "## Question 8"
   ]
  },
  {
   "cell_type": "markdown",
   "id": "ccaf7c6a",
   "metadata": {},
   "source": [
    "a) All the temperature data.\n",
    "    \n",
    "    \n",
    "    Select Temperature from cityData;\n",
    "    \n",
    "b) All the cities, but without repetition.\n",
    "    \n",
    "    \n",
    "    Select DISTINCT City from cityData;\n",
    "\n",
    "c) All the records for India.\n",
    "    \n",
    "    \n",
    "    Select * from cityData WHERE Country = \"India\";\n",
    "    \n",
    "d) All the Fall records.\n",
    "    \n",
    "    \n",
    "    Select * from cityData WHERE Season = \"Fall\";\n",
    "    \n",
    "e) The city, country, and season for which the average rainfall is between 200 and 400 millimeters.\n",
    "    \n",
    "    \n",
    "    Select city, country, season from cityData WHERE Rainfall > 200 AND Rainfall < 400;\n",
    "    \n",
    "f) The city and country for which the average Fall temperature is above 20 degrees, in increasing temperature order.\n",
    "    \n",
    "    \n",
    "    Select city, country from cityData WHERE temperature > 20 ORDER BY temperature ASC;\n",
    "    \n",
    "g) The total annual rainfall for Cairo.\n",
    "    \n",
    "    \n",
    "    SELECT SUM(Rainfall) from cityData where city = \"Cairo\";\n",
    "    \n",
    "h) The total rainfall for each season.\n",
    "    \n",
    "    \n",
    "    SELECT SUM(Rainfall) from citydata GROUP BY Season;\n",
    "    "
   ]
  },
  {
   "cell_type": "markdown",
   "id": "da3ad3ff",
   "metadata": {},
   "source": [
    "## Question 9"
   ]
  },
  {
   "cell_type": "code",
   "execution_count": 27,
   "id": "996c1287",
   "metadata": {},
   "outputs": [],
   "source": [
    "words = ['The', 'quick', 'brown', 'fox', 'jumps', 'over', 'the', 'lazy', 'dog']\n"
   ]
  },
  {
   "cell_type": "code",
   "execution_count": 36,
   "id": "909718bc",
   "metadata": {},
   "outputs": [
    {
     "name": "stdout",
     "output_type": "stream",
     "text": [
      "['THE', 'QUICK', 'BROWN', 'FOX', 'JUMPS', 'OVER', 'THE', 'LAZY', 'DOG']\n"
     ]
    }
   ],
   "source": [
    "# a)\n",
    "names_upper = [name.upper() for name in words]\n",
    "print(names_upper)"
   ]
  },
  {
   "cell_type": "code",
   "execution_count": 37,
   "id": "876de4d8",
   "metadata": {},
   "outputs": [
    {
     "name": "stdout",
     "output_type": "stream",
     "text": [
      "['THE', 'QUICK', 'BROWN', 'FOX', 'JUMPS', 'OVER', 'THE', 'LAZY', 'DOG']\n"
     ]
    }
   ],
   "source": [
    "# b)\n",
    "names_lower = [name.lower() for name in words]\n",
    "print(names_upper)"
   ]
  },
  {
   "cell_type": "code",
   "execution_count": 38,
   "id": "6d77f233",
   "metadata": {},
   "outputs": [
    {
     "name": "stdout",
     "output_type": "stream",
     "text": [
      "['THE', 'QUICK', 'BROWN', 'FOX', 'JUMPS', 'OVER', 'THE', 'LAZY', 'DOG']\n"
     ]
    }
   ],
   "source": [
    "# c)\n",
    "names_len = [len(name) for name in words]\n",
    "print(names_upper)"
   ]
  },
  {
   "cell_type": "code",
   "execution_count": 39,
   "id": "47cd3cf4",
   "metadata": {},
   "outputs": [
    {
     "name": "stdout",
     "output_type": "stream",
     "text": [
      "[['THE', 'the', 3], ['QUICK', 'quick', 5], ['BROWN', 'brown', 5], ['FOX', 'fox', 3], ['JUMPS', 'jumps', 5], ['OVER', 'over', 4], ['THE', 'the', 3], ['LAZY', 'lazy', 4], ['DOG', 'dog', 3]]\n"
     ]
    }
   ],
   "source": [
    "# d)\n",
    "combineList = []\n",
    "for i in range(0, len(words)):\n",
    "    appendRow = [names_upper[i], names_lower[i], names_len[i]]\n",
    "    combineList.append(appendRow)\n",
    "\n",
    "print(combineList)"
   ]
  },
  {
   "cell_type": "code",
   "execution_count": 44,
   "id": "471c7d69",
   "metadata": {},
   "outputs": [
    {
     "name": "stdout",
     "output_type": "stream",
     "text": [
      "['quick', 'brown', 'jumps', 'over', 'lazy']\n"
     ]
    }
   ],
   "source": [
    "names_moreWords = [name for name in words if(len(name) >= 4)]\n",
    "print(names_moreWords)"
   ]
  },
  {
   "cell_type": "code",
   "execution_count": null,
   "id": "3cf1489b",
   "metadata": {},
   "outputs": [],
   "source": []
  }
 ],
 "metadata": {
  "kernelspec": {
   "display_name": "Python 3 (ipykernel)",
   "language": "python",
   "name": "python3"
  },
  "language_info": {
   "codemirror_mode": {
    "name": "ipython",
    "version": 3
   },
   "file_extension": ".py",
   "mimetype": "text/x-python",
   "name": "python",
   "nbconvert_exporter": "python",
   "pygments_lexer": "ipython3",
   "version": "3.9.7"
  }
 },
 "nbformat": 4,
 "nbformat_minor": 5
}
